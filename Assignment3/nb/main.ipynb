{
 "cells": [
  {
   "cell_type": "code",
<<<<<<< HEAD
   "execution_count": 37,
=======
   "execution_count": 1,
>>>>>>> upstream/main
   "metadata": {},
   "outputs": [],
   "source": [
    "import numpy as np\n",
    "from connect_four import Game, GameType "
   ]
  },
  {
   "cell_type": "code",
<<<<<<< HEAD
   "execution_count": 38,
=======
   "execution_count": 2,
>>>>>>> upstream/main
   "metadata": {},
   "outputs": [],
   "source": [
    "game_init = np.array(\n",
    "    [\n",
    "        [2, 2, 2, 1, 0, 1, 0],\n",
    "        [2, 1, 1, 1, 0, 2, 0],\n",
    "        [1, 2, 2, 2, 0, 1, 0],\n",
    "        [2, 1, 1, 1, 0, 2, 0],\n",
    "        [1, 1, 1, 2, 0, 2, 0],\n",
    "        [2, 2, 1, 2, 0, 1, 0],\n",
    "    ]\n",
    ")"
   ]
  },
  {
   "cell_type": "code",
<<<<<<< HEAD
   "execution_count": 39,
   "metadata": {},
   "outputs": [],
   "source": [
    "game = Game(game_state=game_init, game_type=GameType.MCTS_VS_RANDOM, mcts_maxiter=1000)"
   ]
  },
  {
   "cell_type": "markdown",
   "metadata": {},
   "source": [
    "#### Running the MCTS for several \"epochs\"\n",
    "The tree nodes store the state of the game when they are created. This states are the result from (first) the action chosen to create the node plus (second) the random action of player 2. This node states are frozen and kept untouched. This means we have a limited view of all the possible outcomes. \n",
    "\n",
    "We run the MCTS for sevral \"epochs\" before choosing an action to take. Each epoch consists of a single independent run of the tree search algorithm. This means that we will have as many action-value pairs as epochs (for the root node). We take the average of the q-values to select an action. \n"
=======
   "execution_count": 3,
   "metadata": {},
   "outputs": [],
   "source": [
    "game = Game(game_init)"
>>>>>>> upstream/main
   ]
  },
  {
   "cell_type": "code",
<<<<<<< HEAD
   "execution_count": 40,
=======
   "execution_count": 4,
>>>>>>> upstream/main
   "metadata": {},
   "outputs": [
    {
     "name": "stdout",
     "output_type": "stream",
     "text": [
      "Running tree search to choose action ...\n"
     ]
    },
    {
     "ename": "IndexError",
     "evalue": "index 6 is out of bounds for axis 0 with size 6",
     "output_type": "error",
     "traceback": [
      "\u001b[0;31m---------------------------------------------------------------------------\u001b[0m",
      "\u001b[0;31mIndexError\u001b[0m                                Traceback (most recent call last)",
      "Cell \u001b[0;32mIn[4], line 1\u001b[0m\n\u001b[0;32m----> 1\u001b[0m \u001b[43mgame\u001b[49m\u001b[38;5;241;43m.\u001b[39;49m\u001b[43mplay\u001b[49m\u001b[43m(\u001b[49m\u001b[43m)\u001b[49m\n",
      "File \u001b[0;32m~/computer_science/code/RL-assignments/Assignment3/src/connect_four/game.py:91\u001b[0m, in \u001b[0;36mGame.play\u001b[0;34m(self, show, display_fun)\u001b[0m\n\u001b[1;32m     87\u001b[0m \u001b[38;5;28;01mdef\u001b[39;00m \u001b[38;5;21mplay\u001b[39m(\u001b[38;5;28mself\u001b[39m, show: \u001b[38;5;28mbool\u001b[39m \u001b[38;5;241m=\u001b[39m \u001b[38;5;28;01mTrue\u001b[39;00m, display_fun\u001b[38;5;241m=\u001b[39mdisplay_circles) \u001b[38;5;241m-\u001b[39m\u001b[38;5;241m>\u001b[39m \u001b[38;5;28;01mNone\u001b[39;00m:\n\u001b[1;32m     89\u001b[0m     \u001b[38;5;28;01mwhile\u001b[39;00m \u001b[38;5;129;01mnot\u001b[39;00m \u001b[38;5;28mself\u001b[39m\u001b[38;5;241m.\u001b[39mgame_board\u001b[38;5;241m.\u001b[39mis_finished:\n\u001b[1;32m     90\u001b[0m         \u001b[38;5;28mself\u001b[39m\u001b[38;5;241m.\u001b[39mgame_board\u001b[38;5;241m.\u001b[39mplay(\n\u001b[0;32m---> 91\u001b[0m             first_action\u001b[38;5;241m=\u001b[39m\u001b[38;5;28;43mself\u001b[39;49m\u001b[38;5;241;43m.\u001b[39;49m\u001b[43mfirst_move\u001b[49m\u001b[43m(\u001b[49m\u001b[43m)\u001b[49m, second_action\u001b[38;5;241m=\u001b[39m\u001b[38;5;28mself\u001b[39m\u001b[38;5;241m.\u001b[39msecond_move()\n\u001b[1;32m     92\u001b[0m         )\n\u001b[1;32m     93\u001b[0m         \u001b[38;5;28;01mif\u001b[39;00m show:\n\u001b[1;32m     94\u001b[0m             display_fun(grid\u001b[38;5;241m=\u001b[39m\u001b[38;5;28mself\u001b[39m\u001b[38;5;241m.\u001b[39mgame_board\u001b[38;5;241m.\u001b[39msnapshot(), qvalues\u001b[38;5;241m=\u001b[39m\u001b[38;5;28mself\u001b[39m\u001b[38;5;241m.\u001b[39mget_qvalues())\n",
      "File \u001b[0;32m~/computer_science/code/RL-assignments/Assignment3/src/connect_four/game.py:76\u001b[0m, in \u001b[0;36mGame.first_move\u001b[0;34m(self)\u001b[0m\n\u001b[1;32m     74\u001b[0m     \u001b[38;5;28;01mreturn\u001b[39;00m \u001b[38;5;28mself\u001b[39m\u001b[38;5;241m.\u001b[39minput_action()\n\u001b[1;32m     75\u001b[0m \u001b[38;5;28;01mcase\u001b[39;00m GameType\u001b[38;5;241m.\u001b[39mMCTS_VS_RANDOM:\n\u001b[0;32m---> 76\u001b[0m     \u001b[38;5;28;01mreturn\u001b[39;00m \u001b[38;5;28;43mself\u001b[39;49m\u001b[38;5;241;43m.\u001b[39;49m\u001b[43mselect_best_action\u001b[49m\u001b[43m(\u001b[49m\u001b[43m)\u001b[49m\n",
      "File \u001b[0;32m~/computer_science/code/RL-assignments/Assignment3/src/connect_four/game.py:65\u001b[0m, in \u001b[0;36mGame.select_best_action\u001b[0;34m(self)\u001b[0m\n\u001b[1;32m     61\u001b[0m \u001b[38;5;28;01mdef\u001b[39;00m \u001b[38;5;21mselect_best_action\u001b[39m(\u001b[38;5;28mself\u001b[39m) \u001b[38;5;241m-\u001b[39m\u001b[38;5;241m>\u001b[39m \u001b[38;5;28mint\u001b[39m:\n\u001b[1;32m     62\u001b[0m     \u001b[38;5;66;03m# Here is where the tree search is actually done\u001b[39;00m\n\u001b[1;32m     63\u001b[0m     \u001b[38;5;66;03m# Return the best action (greedy) that can be taken from root\u001b[39;00m\n\u001b[1;32m     64\u001b[0m     \u001b[38;5;28mprint\u001b[39m(\u001b[38;5;124m\"\u001b[39m\u001b[38;5;124mRunning tree search to choose action ...\u001b[39m\u001b[38;5;124m\"\u001b[39m)\n\u001b[0;32m---> 65\u001b[0m     qvalues \u001b[38;5;241m=\u001b[39m \u001b[38;5;28;43mself\u001b[39;49m\u001b[38;5;241;43m.\u001b[39;49m\u001b[43mmcts\u001b[49m\u001b[38;5;241;43m.\u001b[39;49m\u001b[43mrun\u001b[49m\u001b[43m(\u001b[49m\u001b[43mgame_state\u001b[49m\u001b[38;5;241;43m=\u001b[39;49m\u001b[38;5;28;43mself\u001b[39;49m\u001b[38;5;241;43m.\u001b[39;49m\u001b[43mgame_board\u001b[49m\u001b[38;5;241;43m.\u001b[39;49m\u001b[43msnapshot\u001b[49m\u001b[43m(\u001b[49m\u001b[43m)\u001b[49m\u001b[43m)\u001b[49m\n\u001b[1;32m     66\u001b[0m     \u001b[38;5;28mprint\u001b[39m(\u001b[38;5;124mf\u001b[39m\u001b[38;5;124m\"\u001b[39m\u001b[38;5;124mQvalues: \u001b[39m\u001b[38;5;132;01m{\u001b[39;00mqvalues\u001b[38;5;132;01m}\u001b[39;00m\u001b[38;5;124m\"\u001b[39m)\n\u001b[1;32m     67\u001b[0m     \u001b[38;5;28mprint\u001b[39m(\u001b[38;5;124mf\u001b[39m\u001b[38;5;124m\"\u001b[39m\u001b[38;5;124mChoosing \u001b[39m\u001b[38;5;132;01m{\u001b[39;00m\u001b[38;5;28mint\u001b[39m(\u001b[38;5;28mmax\u001b[39m(qvalues,\u001b[38;5;250m \u001b[39mkey\u001b[38;5;241m=\u001b[39mqvalues\u001b[38;5;241m.\u001b[39mget))\u001b[38;5;132;01m}\u001b[39;00m\u001b[38;5;124m\"\u001b[39m)\n",
      "File \u001b[0;32m~/computer_science/code/RL-assignments/Assignment3/src/connect_four/mcts.py:90\u001b[0m, in \u001b[0;36mMCTS.run\u001b[0;34m(self, game_state, strategy)\u001b[0m\n\u001b[1;32m     86\u001b[0m \u001b[38;5;28mself\u001b[39m\u001b[38;5;241m.\u001b[39mroot \u001b[38;5;241m=\u001b[39m Node\u001b[38;5;241m.\u001b[39mfrom_root(state\u001b[38;5;241m=\u001b[39m\u001b[38;5;28mself\u001b[39m\u001b[38;5;241m.\u001b[39mgame\u001b[38;5;241m.\u001b[39msnapshot())\n\u001b[1;32m     88\u001b[0m \u001b[38;5;28;01mfor\u001b[39;00m _ \u001b[38;5;129;01min\u001b[39;00m \u001b[38;5;28mrange\u001b[39m(\u001b[38;5;28mself\u001b[39m\u001b[38;5;241m.\u001b[39mmaxiter):\n\u001b[1;32m     89\u001b[0m     \u001b[38;5;66;03m# Select a node **starting from root** (see MCTS.select())\u001b[39;00m\n\u001b[0;32m---> 90\u001b[0m     parent \u001b[38;5;241m=\u001b[39m \u001b[38;5;28;43mself\u001b[39;49m\u001b[38;5;241;43m.\u001b[39;49m\u001b[43mselect\u001b[49m\u001b[43m(\u001b[49m\u001b[43ms\u001b[49m\u001b[38;5;241;43m=\u001b[39;49m\u001b[43mstrategy\u001b[49m\u001b[43m)\u001b[49m\n\u001b[1;32m     92\u001b[0m     \u001b[38;5;66;03m# Expand it (or just return the same node if terminal)\u001b[39;00m\n\u001b[1;32m     93\u001b[0m     leaf \u001b[38;5;241m=\u001b[39m \u001b[38;5;28mself\u001b[39m\u001b[38;5;241m.\u001b[39mexpand(parent\u001b[38;5;241m=\u001b[39mparent)  \u001b[38;5;66;03m# Can be terminal\u001b[39;00m\n",
      "File \u001b[0;32m~/computer_science/code/RL-assignments/Assignment3/src/connect_four/mcts.py:36\u001b[0m, in \u001b[0;36mMCTS.select\u001b[0;34m(self, s)\u001b[0m\n\u001b[1;32m     33\u001b[0m node \u001b[38;5;241m=\u001b[39m \u001b[38;5;28mself\u001b[39m\u001b[38;5;241m.\u001b[39mroot\u001b[38;5;241m.\u001b[39mselect(strategy\u001b[38;5;241m=\u001b[39ms)\n\u001b[1;32m     34\u001b[0m \u001b[38;5;66;03m# Iterate through nodes until reaching a leaf / terminal node\u001b[39;00m\n\u001b[1;32m     35\u001b[0m \u001b[38;5;66;03m# update the game state to the node's state\u001b[39;00m\n\u001b[0;32m---> 36\u001b[0m \u001b[38;5;28;43mself\u001b[39;49m\u001b[38;5;241;43m.\u001b[39;49m\u001b[43mgame\u001b[49m\u001b[38;5;241;43m.\u001b[39;49m\u001b[43mplay\u001b[49m\u001b[43m(\u001b[49m\u001b[43mnode\u001b[49m\u001b[38;5;241;43m.\u001b[39;49m\u001b[43mfrom_action\u001b[49m\u001b[43m)\u001b[49m\n\u001b[1;32m     37\u001b[0m \u001b[38;5;28mself\u001b[39m\u001b[38;5;241m.\u001b[39mgame\u001b[38;5;241m.\u001b[39mset_state(node\u001b[38;5;241m.\u001b[39mgame_state)\n\u001b[1;32m     40\u001b[0m \u001b[38;5;28;01mwhile\u001b[39;00m \u001b[38;5;129;01mnot\u001b[39;00m (node\u001b[38;5;241m.\u001b[39mis_leaf \u001b[38;5;129;01mor\u001b[39;00m node\u001b[38;5;241m.\u001b[39mis_terminal):\n",
      "File \u001b[0;32m~/computer_science/code/RL-assignments/Assignment3/src/connect_four/game_board.py:93\u001b[0m, in \u001b[0;36mGameBoard.play\u001b[0;34m(self, first_action, second_action)\u001b[0m\n\u001b[1;32m     89\u001b[0m \u001b[38;5;250m\u001b[39m\u001b[38;5;124;03m\"\"\"First move must always be explicit. Second move can be `None`,\u001b[39;00m\n\u001b[1;32m     90\u001b[0m \u001b[38;5;124;03mand in this case the second player will play randomly\u001b[39;00m\n\u001b[1;32m     91\u001b[0m \u001b[38;5;124;03m\"\"\"\u001b[39;00m\n\u001b[1;32m     92\u001b[0m \u001b[38;5;66;03m# First play\u001b[39;00m\n\u001b[0;32m---> 93\u001b[0m \u001b[38;5;28;43mself\u001b[39;49m\u001b[38;5;241;43m.\u001b[39;49m\u001b[43mstep\u001b[49m\u001b[43m(\u001b[49m\u001b[43maction\u001b[49m\u001b[38;5;241;43m=\u001b[39;49m\u001b[43mfirst_action\u001b[49m\u001b[43m,\u001b[49m\u001b[43m \u001b[49m\u001b[43mplayer\u001b[49m\u001b[38;5;241;43m=\u001b[39;49m\u001b[43mPlayerType\u001b[49m\u001b[38;5;241;43m.\u001b[39;49m\u001b[43mUS\u001b[49m\u001b[43m)\u001b[49m\n\u001b[1;32m     95\u001b[0m \u001b[38;5;66;03m# Second play\u001b[39;00m\n\u001b[1;32m     96\u001b[0m second_action \u001b[38;5;241m=\u001b[39m (\n\u001b[1;32m     97\u001b[0m     second_action\n\u001b[1;32m     98\u001b[0m     \u001b[38;5;28;01mif\u001b[39;00m second_action \u001b[38;5;129;01mis\u001b[39;00m \u001b[38;5;129;01mnot\u001b[39;00m \u001b[38;5;28;01mNone\u001b[39;00m\n\u001b[1;32m     99\u001b[0m     \u001b[38;5;28;01melse\u001b[39;00m random\u001b[38;5;241m.\u001b[39mchoice(\u001b[38;5;28mlist\u001b[39m(\u001b[38;5;28mself\u001b[39m\u001b[38;5;241m.\u001b[39mavailable_actions))\n\u001b[1;32m    100\u001b[0m )\n",
      "File \u001b[0;32m~/computer_science/code/RL-assignments/Assignment3/src/connect_four/game_board.py:81\u001b[0m, in \u001b[0;36mGameBoard.step\u001b[0;34m(self, action, player)\u001b[0m\n\u001b[1;32m     79\u001b[0m action \u001b[38;5;241m=\u001b[39m \u001b[38;5;28mself\u001b[39m\u001b[38;5;241m.\u001b[39mvalidate_action(action)\n\u001b[1;32m     80\u001b[0m row \u001b[38;5;241m=\u001b[39m np\u001b[38;5;241m.\u001b[39mmax(np\u001b[38;5;241m.\u001b[39mwhere(\u001b[38;5;28mself\u001b[39m\u001b[38;5;241m.\u001b[39m_grid[:, action] \u001b[38;5;241m==\u001b[39m \u001b[38;5;241m0\u001b[39m))\n\u001b[0;32m---> 81\u001b[0m \u001b[38;5;28;43mself\u001b[39;49m\u001b[38;5;241;43m.\u001b[39;49m\u001b[43m_grid\u001b[49m\u001b[43m[\u001b[49m\u001b[43mrow\u001b[49m\u001b[43m,\u001b[49m\u001b[43m \u001b[49m\u001b[43maction\u001b[49m\u001b[43m]\u001b[49m \u001b[38;5;241m=\u001b[39m player\n",
      "\u001b[0;31mIndexError\u001b[0m: index 6 is out of bounds for axis 0 with size 6"
     ]
    }
   ],
   "source": [
    "from typing import Dict\n",
    "\n",
    "\n",
    "class QValuesDict(dict):\n",
    "    \"\"\"This keeps a running average of q-values returned by mcts\"\"\"\n",
    "\n",
    "    def __init__(self, *args, **kwargs) -> None:\n",
    "        self._updates = 0\n",
    "        return super().__init__(*args, **kwargs)\n",
    "\n",
    "    def update(self, new: Dict[int, float]) -> None:\n",
    "        assert not set(new.keys()) - set(self.keys())\n",
    "\n",
    "        for key in new:\n",
    "            # Update the running average of each action\n",
    "            # This is: \\bar{x}_{N+1} = 1 / (N + 1) * (N * \\bar{x}_N + x_{N + 1}) \n",
    "            # Where \\bar{x}_N is the mean value of x given N updates\n",
    "            self[key] = 1 / (self._updates + 1) * (self._updates * self[key] + new[key])\n",
    "\n",
    "        self._updates += 1\n",
    "\n",
    "\n",
    "def select_best_action_dope(self, epochs: int = 15) -> int:\n",
    "    print(\"Running tree search to choose action ...\")\n",
    "    qvalues = QValuesDict({a: 0.0 for a in range(self.game_board.ncols)})\n",
    "    for e in range(epochs):\n",
    "        print(f\"\\tRunning epoch {e} to find best action ...\")\n",
    "        qvalues.update(self.mcts.run(game_state=self.game_board.snapshot()))\n",
    "    print(f\"Qvalues: {qvalues}\")\n",
    "    print(f\"Choosing {int(max(qvalues, key=qvalues.get))}\")\n",
    "    return int(max(qvalues, key=qvalues.get))"
   ]
  },
  {
   "cell_type": "code",
   "execution_count": 41,
   "metadata": {},
   "outputs": [],
   "source": [
    "Game.select_best_action = select_best_action_dope"
   ]
  },
  {
   "cell_type": "code",
   "execution_count": 42,
   "metadata": {},
   "outputs": [
    {
     "name": "stdout",
     "output_type": "stream",
     "text": [
      "Running tree search to choose action ...\n",
      "\tRunning epoch 0 to find best action ...\n",
      "\tRunning epoch 1 to find best action ...\n",
      "\tRunning epoch 2 to find best action ...\n",
      "\tRunning epoch 3 to find best action ...\n",
      "\tRunning epoch 4 to find best action ...\n",
      "\tRunning epoch 5 to find best action ...\n",
      "\tRunning epoch 6 to find best action ...\n",
      "\tRunning epoch 7 to find best action ...\n",
      "\tRunning epoch 8 to find best action ...\n",
      "\tRunning epoch 9 to find best action ...\n",
      "\tRunning epoch 10 to find best action ...\n",
      "\tRunning epoch 11 to find best action ...\n",
      "\tRunning epoch 12 to find best action ...\n",
      "\tRunning epoch 13 to find best action ...\n",
      "\tRunning epoch 14 to find best action ...\n",
      "Qvalues: {0: 0.0, 1: 0.0, 2: 0.0, 3: 0.0, 4: 0.6934308402428732, 5: 0.0, 6: 0.27009979208632773}\n",
      "Choosing 4\n"
     ]
    },
    {
     "data": {
      "image/png": "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",
      "text/plain": [
       "<Figure size 700x600 with 1 Axes>"
      ]
     },
     "metadata": {},
     "output_type": "display_data"
    },
    {
     "name": "stdout",
     "output_type": "stream",
     "text": [
      "Running tree search to choose action ...\n",
      "\tRunning epoch 0 to find best action ...\n",
      "\tRunning epoch 1 to find best action ...\n",
      "\tRunning epoch 2 to find best action ...\n",
      "\tRunning epoch 3 to find best action ...\n",
      "\tRunning epoch 4 to find best action ...\n",
      "\tRunning epoch 5 to find best action ...\n",
      "\tRunning epoch 6 to find best action ...\n",
      "\tRunning epoch 7 to find best action ...\n",
      "\tRunning epoch 8 to find best action ...\n",
      "\tRunning epoch 9 to find best action ...\n",
      "\tRunning epoch 10 to find best action ...\n",
      "\tRunning epoch 11 to find best action ...\n",
      "\tRunning epoch 12 to find best action ...\n",
      "\tRunning epoch 13 to find best action ...\n",
      "\tRunning epoch 14 to find best action ...\n",
      "Qvalues: {0: 0.0, 1: 0.0, 2: 0.0, 3: 0.0, 4: -0.24735371661665015, 5: 0.0, 6: 0.6278565627541103}\n",
      "Choosing 6\n"
     ]
    },
    {
     "data": {
      "image/png": "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",
      "text/plain": [
       "<Figure size 700x600 with 1 Axes>"
      ]
     },
     "metadata": {},
     "output_type": "display_data"
    },
    {
     "name": "stdout",
     "output_type": "stream",
     "text": [
      "Running tree search to choose action ...\n",
      "\tRunning epoch 0 to find best action ...\n",
      "\tRunning epoch 1 to find best action ...\n",
      "\tRunning epoch 2 to find best action ...\n",
      "\tRunning epoch 3 to find best action ...\n",
      "\tRunning epoch 4 to find best action ...\n",
      "\tRunning epoch 5 to find best action ...\n",
      "\tRunning epoch 6 to find best action ...\n",
      "\tRunning epoch 7 to find best action ...\n",
      "\tRunning epoch 8 to find best action ...\n",
      "\tRunning epoch 9 to find best action ...\n",
      "\tRunning epoch 10 to find best action ...\n",
      "\tRunning epoch 11 to find best action ...\n",
      "\tRunning epoch 12 to find best action ...\n",
      "\tRunning epoch 13 to find best action ...\n",
      "\tRunning epoch 14 to find best action ...\n",
      "Qvalues: {0: 0.0, 1: 0.0, 2: 0.0, 3: 0.0, 4: -0.14340085338795022, 5: 0.0, 6: 0.865860359952224}\n",
      "Choosing 6\n"
     ]
    },
    {
     "data": {
      "image/png": "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",
      "text/plain": [
       "<Figure size 700x600 with 1 Axes>"
      ]
     },
     "metadata": {},
     "output_type": "display_data"
    },
    {
     "name": "stdout",
     "output_type": "stream",
     "text": [
      "Running tree search to choose action ...\n",
      "\tRunning epoch 0 to find best action ...\n",
      "\tRunning epoch 1 to find best action ...\n",
      "\tRunning epoch 2 to find best action ...\n",
      "\tRunning epoch 3 to find best action ...\n",
      "\tRunning epoch 4 to find best action ...\n",
      "\tRunning epoch 5 to find best action ...\n",
      "\tRunning epoch 6 to find best action ...\n",
      "\tRunning epoch 7 to find best action ...\n",
      "\tRunning epoch 8 to find best action ...\n",
      "\tRunning epoch 9 to find best action ...\n",
      "\tRunning epoch 10 to find best action ...\n",
      "\tRunning epoch 11 to find best action ...\n",
      "\tRunning epoch 12 to find best action ...\n",
      "\tRunning epoch 13 to find best action ...\n",
      "\tRunning epoch 14 to find best action ...\n",
      "Qvalues: {0: 0.0, 1: 0.0, 2: 0.0, 3: 0.0, 4: 1.0, 5: 0.0, 6: 0.2}\n",
      "Choosing 4\n"
     ]
    },
    {
     "data": {
      "image/png": "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",
      "text/plain": [
       "<Figure size 700x600 with 1 Axes>"
      ]
     },
     "metadata": {},
     "output_type": "display_data"
    },
    {
     "name": "stdout",
     "output_type": "stream",
     "text": [
      "The winner of the game is: 1\n"
     ]
    }
   ],
   "source": [
    "game.play()"
   ]
  },
  {
   "cell_type": "code",
   "execution_count": null,
   "metadata": {},
   "outputs": [],
   "source": []
  }
 ],
 "metadata": {
  "kernelspec": {
   "display_name": ".venv",
   "language": "python",
   "name": "python3"
  },
  "language_info": {
   "codemirror_mode": {
    "name": "ipython",
    "version": 3
   },
   "file_extension": ".py",
   "mimetype": "text/x-python",
   "name": "python",
   "nbconvert_exporter": "python",
   "pygments_lexer": "ipython3",
   "version": "3.12.3"
  }
 },
 "nbformat": 4,
 "nbformat_minor": 2
}
