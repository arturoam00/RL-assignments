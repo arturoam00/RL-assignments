{
 "cells": [
  {
   "cell_type": "code",
   "execution_count": 1,
   "metadata": {},
   "outputs": [],
   "source": [
    "from connect_four import MCTS"
   ]
  },
  {
   "cell_type": "code",
   "execution_count": 2,
   "metadata": {},
   "outputs": [],
   "source": [
    "mcts = MCTS()\n",
    "mcts.run(maxiter=78980)"
   ]
  },
  {
   "cell_type": "code",
   "execution_count": null,
   "metadata": {},
   "outputs": [],
   "source": [
    "def single_game():\n",
    "    start_state = np.array(\n",
    "        [\n",
    "            [0, 1, -1, -1, 1, -1, 0],\n",
    "            [0, 1, 1, -1, -1, 1, 0],\n",
    "            [0, -1, -1, -1, 1, -1, 0],\n",
    "            [0, 1, 1, 1, -1, 1, 0],\n",
    "            [0, 1, -1, -1, 1, -1, 0],\n",
    "            [-1, 1, 1, 1, -1, -1, 1],\n",
    "        ]\n",
    "    )\n",
    "\n",
    "    display_actions = [\n",
    "        {'index': 0, 'val': 'X'}, \n",
    "        {'index': 1, 'val': 'X'}, \n",
    "        {'index': 2, 'val': 'X'}, \n",
    "        {'index': 3, 'val': 'X'}, \n",
    "        {'index': 4, 'val': 'X'}, \n",
    "        {'index': 5, 'val': 'X'}, \n",
    "        {'index': 6, 'val': 'X'}\n",
    "    ]\n",
    "\n",
    "    game = Connect4()\n",
    "    game.state = start_state\n",
    "    mcts = MCTS(game)\n",
    "    human_intervention = False\n",
    "\n",
    "    done = False\n",
    "    while not done:\n",
    "        best_action = mcts.get_best_action(maxiter=2048)\n",
    "        for action in best_action[1]:\n",
    "            display_actions[action.action]['val'] = round(action.qval, 2)\n",
    "        display(game.state, display_actions)\n",
    "        act = best_action[0].action\n",
    "        if human_intervention:\n",
    "            try:\n",
    "                act = int(input(\"Choose a column (0-6): \"))\n",
    "            except ValueError:\n",
    "                print(\"Invalid input. Please enter a number between 0 and 6.\")\n",
    "            \n",
    "        reward, done = game.step(act)\n",
    "        if done:\n",
    "            if reward > 0:\n",
    "                print('Win')\n",
    "            elif reward < 0:\n",
    "                print('Lose')\n",
    "            else:\n",
    "                print('Draw')\n",
    "            display(game.state, display_actions)"
   ]
  },
  {
   "cell_type": "code",
   "execution_count": null,
   "metadata": {},
   "outputs": [],
   "source": [
    "import matplotlib.pyplot as plt\n",
    "import matplotlib.colors as mcolors\n",
    "\n",
    "def display(board, values):\n",
    "    fig, ax = plt.subplots(figsize=[7, 6])\n",
    "    cmap = mcolors.ListedColormap(['white', 'green', 'blue'])\n",
    "    norm = mcolors.BoundaryNorm([-1, 0.5, 1.5, 2.5], cmap.N)\n",
    "    ax.matshow(board, cmap=cmap, norm=norm)\n",
    "    \n",
    "    for x in range(8):\n",
    "        ax.plot([x - .5, x - .5], [-.5, 5.5], 'k')\n",
    "    for y in range(7):\n",
    "        ax.plot([-.5, 6.5], [y - .5, y - .5], 'k')\n",
    "        \n",
    "    for v in values:\n",
    "        ax.text(v['index'], -1, str(v['val']), ha='center', va='center', fontsize=20, color='black')\n",
    "        \n",
    "    ax.set_axis_off()\n",
    "    plt.show()\n",
    "    plt.close()"
   ]
  }
 ],
 "metadata": {
  "kernelspec": {
   "display_name": ".venv",
   "language": "python",
   "name": "python3"
  },
  "language_info": {
   "codemirror_mode": {
    "name": "ipython",
    "version": 3
   },
   "file_extension": ".py",
   "mimetype": "text/x-python",
   "name": "python",
   "nbconvert_exporter": "python",
   "pygments_lexer": "ipython3",
   "version": "3.12.7"
  }
 },
 "nbformat": 4,
 "nbformat_minor": 2
}
