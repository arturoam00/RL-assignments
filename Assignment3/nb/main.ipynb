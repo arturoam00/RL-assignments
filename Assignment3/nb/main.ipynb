{
 "cells": [
  {
   "cell_type": "code",
   "execution_count": 1,
   "metadata": {},
   "outputs": [],
   "source": [
    "import numpy as np\n",
    "from connect_four import Game, GameType"
   ]
  },
  {
   "cell_type": "code",
   "execution_count": 2,
   "metadata": {},
   "outputs": [],
   "source": [
    "game_init = np.array(\n",
    "    [\n",
    "        [2, 2, 2, 1, 0, 1, 0],\n",
    "        [2, 1, 1, 1, 0, 2, 0],\n",
    "        [1, 2, 2, 2, 0, 1, 0],\n",
    "        [2, 1, 1, 1, 0, 2, 0],\n",
    "        [1, 1, 1, 2, 0, 2, 0],\n",
    "        [2, 2, 1, 2, 0, 1, 0],\n",
    "    ]\n",
    ")"
   ]
  },
  {
   "cell_type": "code",
   "execution_count": 3,
   "metadata": {},
   "outputs": [],
   "source": [
    "game = Game(game_init)"
   ]
  },
  {
   "cell_type": "code",
   "execution_count": 4,
   "metadata": {},
   "outputs": [
    {
     "name": "stdout",
     "output_type": "stream",
     "text": [
      "Running tree search to choose action ...\n"
     ]
    },
    {
     "ename": "IndexError",
     "evalue": "index 6 is out of bounds for axis 0 with size 6",
     "output_type": "error",
     "traceback": [
      "\u001b[0;31m---------------------------------------------------------------------------\u001b[0m",
      "\u001b[0;31mIndexError\u001b[0m                                Traceback (most recent call last)",
      "Cell \u001b[0;32mIn[4], line 1\u001b[0m\n\u001b[0;32m----> 1\u001b[0m \u001b[43mgame\u001b[49m\u001b[38;5;241;43m.\u001b[39;49m\u001b[43mplay\u001b[49m\u001b[43m(\u001b[49m\u001b[43m)\u001b[49m\n",
      "File \u001b[0;32m~/computer_science/code/RL-assignments/Assignment3/src/connect_four/game.py:91\u001b[0m, in \u001b[0;36mGame.play\u001b[0;34m(self, show, display_fun)\u001b[0m\n\u001b[1;32m     87\u001b[0m \u001b[38;5;28;01mdef\u001b[39;00m \u001b[38;5;21mplay\u001b[39m(\u001b[38;5;28mself\u001b[39m, show: \u001b[38;5;28mbool\u001b[39m \u001b[38;5;241m=\u001b[39m \u001b[38;5;28;01mTrue\u001b[39;00m, display_fun\u001b[38;5;241m=\u001b[39mdisplay_circles) \u001b[38;5;241m-\u001b[39m\u001b[38;5;241m>\u001b[39m \u001b[38;5;28;01mNone\u001b[39;00m:\n\u001b[1;32m     89\u001b[0m     \u001b[38;5;28;01mwhile\u001b[39;00m \u001b[38;5;129;01mnot\u001b[39;00m \u001b[38;5;28mself\u001b[39m\u001b[38;5;241m.\u001b[39mgame_board\u001b[38;5;241m.\u001b[39mis_finished:\n\u001b[1;32m     90\u001b[0m         \u001b[38;5;28mself\u001b[39m\u001b[38;5;241m.\u001b[39mgame_board\u001b[38;5;241m.\u001b[39mplay(\n\u001b[0;32m---> 91\u001b[0m             first_action\u001b[38;5;241m=\u001b[39m\u001b[38;5;28;43mself\u001b[39;49m\u001b[38;5;241;43m.\u001b[39;49m\u001b[43mfirst_move\u001b[49m\u001b[43m(\u001b[49m\u001b[43m)\u001b[49m, second_action\u001b[38;5;241m=\u001b[39m\u001b[38;5;28mself\u001b[39m\u001b[38;5;241m.\u001b[39msecond_move()\n\u001b[1;32m     92\u001b[0m         )\n\u001b[1;32m     93\u001b[0m         \u001b[38;5;28;01mif\u001b[39;00m show:\n\u001b[1;32m     94\u001b[0m             display_fun(grid\u001b[38;5;241m=\u001b[39m\u001b[38;5;28mself\u001b[39m\u001b[38;5;241m.\u001b[39mgame_board\u001b[38;5;241m.\u001b[39msnapshot(), qvalues\u001b[38;5;241m=\u001b[39m\u001b[38;5;28mself\u001b[39m\u001b[38;5;241m.\u001b[39mget_qvalues())\n",
      "File \u001b[0;32m~/computer_science/code/RL-assignments/Assignment3/src/connect_four/game.py:76\u001b[0m, in \u001b[0;36mGame.first_move\u001b[0;34m(self)\u001b[0m\n\u001b[1;32m     74\u001b[0m     \u001b[38;5;28;01mreturn\u001b[39;00m \u001b[38;5;28mself\u001b[39m\u001b[38;5;241m.\u001b[39minput_action()\n\u001b[1;32m     75\u001b[0m \u001b[38;5;28;01mcase\u001b[39;00m GameType\u001b[38;5;241m.\u001b[39mMCTS_VS_RANDOM:\n\u001b[0;32m---> 76\u001b[0m     \u001b[38;5;28;01mreturn\u001b[39;00m \u001b[38;5;28;43mself\u001b[39;49m\u001b[38;5;241;43m.\u001b[39;49m\u001b[43mselect_best_action\u001b[49m\u001b[43m(\u001b[49m\u001b[43m)\u001b[49m\n",
      "File \u001b[0;32m~/computer_science/code/RL-assignments/Assignment3/src/connect_four/game.py:65\u001b[0m, in \u001b[0;36mGame.select_best_action\u001b[0;34m(self)\u001b[0m\n\u001b[1;32m     61\u001b[0m \u001b[38;5;28;01mdef\u001b[39;00m \u001b[38;5;21mselect_best_action\u001b[39m(\u001b[38;5;28mself\u001b[39m) \u001b[38;5;241m-\u001b[39m\u001b[38;5;241m>\u001b[39m \u001b[38;5;28mint\u001b[39m:\n\u001b[1;32m     62\u001b[0m     \u001b[38;5;66;03m# Here is where the tree search is actually done\u001b[39;00m\n\u001b[1;32m     63\u001b[0m     \u001b[38;5;66;03m# Return the best action (greedy) that can be taken from root\u001b[39;00m\n\u001b[1;32m     64\u001b[0m     \u001b[38;5;28mprint\u001b[39m(\u001b[38;5;124m\"\u001b[39m\u001b[38;5;124mRunning tree search to choose action ...\u001b[39m\u001b[38;5;124m\"\u001b[39m)\n\u001b[0;32m---> 65\u001b[0m     qvalues \u001b[38;5;241m=\u001b[39m \u001b[38;5;28;43mself\u001b[39;49m\u001b[38;5;241;43m.\u001b[39;49m\u001b[43mmcts\u001b[49m\u001b[38;5;241;43m.\u001b[39;49m\u001b[43mrun\u001b[49m\u001b[43m(\u001b[49m\u001b[43mgame_state\u001b[49m\u001b[38;5;241;43m=\u001b[39;49m\u001b[38;5;28;43mself\u001b[39;49m\u001b[38;5;241;43m.\u001b[39;49m\u001b[43mgame_board\u001b[49m\u001b[38;5;241;43m.\u001b[39;49m\u001b[43msnapshot\u001b[49m\u001b[43m(\u001b[49m\u001b[43m)\u001b[49m\u001b[43m)\u001b[49m\n\u001b[1;32m     66\u001b[0m     \u001b[38;5;28mprint\u001b[39m(\u001b[38;5;124mf\u001b[39m\u001b[38;5;124m\"\u001b[39m\u001b[38;5;124mQvalues: \u001b[39m\u001b[38;5;132;01m{\u001b[39;00mqvalues\u001b[38;5;132;01m}\u001b[39;00m\u001b[38;5;124m\"\u001b[39m)\n\u001b[1;32m     67\u001b[0m     \u001b[38;5;28mprint\u001b[39m(\u001b[38;5;124mf\u001b[39m\u001b[38;5;124m\"\u001b[39m\u001b[38;5;124mChoosing \u001b[39m\u001b[38;5;132;01m{\u001b[39;00m\u001b[38;5;28mint\u001b[39m(\u001b[38;5;28mmax\u001b[39m(qvalues,\u001b[38;5;250m \u001b[39mkey\u001b[38;5;241m=\u001b[39mqvalues\u001b[38;5;241m.\u001b[39mget))\u001b[38;5;132;01m}\u001b[39;00m\u001b[38;5;124m\"\u001b[39m)\n",
      "File \u001b[0;32m~/computer_science/code/RL-assignments/Assignment3/src/connect_four/mcts.py:90\u001b[0m, in \u001b[0;36mMCTS.run\u001b[0;34m(self, game_state, strategy)\u001b[0m\n\u001b[1;32m     86\u001b[0m \u001b[38;5;28mself\u001b[39m\u001b[38;5;241m.\u001b[39mroot \u001b[38;5;241m=\u001b[39m Node\u001b[38;5;241m.\u001b[39mfrom_root(state\u001b[38;5;241m=\u001b[39m\u001b[38;5;28mself\u001b[39m\u001b[38;5;241m.\u001b[39mgame\u001b[38;5;241m.\u001b[39msnapshot())\n\u001b[1;32m     88\u001b[0m \u001b[38;5;28;01mfor\u001b[39;00m _ \u001b[38;5;129;01min\u001b[39;00m \u001b[38;5;28mrange\u001b[39m(\u001b[38;5;28mself\u001b[39m\u001b[38;5;241m.\u001b[39mmaxiter):\n\u001b[1;32m     89\u001b[0m     \u001b[38;5;66;03m# Select a node **starting from root** (see MCTS.select())\u001b[39;00m\n\u001b[0;32m---> 90\u001b[0m     parent \u001b[38;5;241m=\u001b[39m \u001b[38;5;28;43mself\u001b[39;49m\u001b[38;5;241;43m.\u001b[39;49m\u001b[43mselect\u001b[49m\u001b[43m(\u001b[49m\u001b[43ms\u001b[49m\u001b[38;5;241;43m=\u001b[39;49m\u001b[43mstrategy\u001b[49m\u001b[43m)\u001b[49m\n\u001b[1;32m     92\u001b[0m     \u001b[38;5;66;03m# Expand it (or just return the same node if terminal)\u001b[39;00m\n\u001b[1;32m     93\u001b[0m     leaf \u001b[38;5;241m=\u001b[39m \u001b[38;5;28mself\u001b[39m\u001b[38;5;241m.\u001b[39mexpand(parent\u001b[38;5;241m=\u001b[39mparent)  \u001b[38;5;66;03m# Can be terminal\u001b[39;00m\n",
      "File \u001b[0;32m~/computer_science/code/RL-assignments/Assignment3/src/connect_four/mcts.py:36\u001b[0m, in \u001b[0;36mMCTS.select\u001b[0;34m(self, s)\u001b[0m\n\u001b[1;32m     33\u001b[0m node \u001b[38;5;241m=\u001b[39m \u001b[38;5;28mself\u001b[39m\u001b[38;5;241m.\u001b[39mroot\u001b[38;5;241m.\u001b[39mselect(strategy\u001b[38;5;241m=\u001b[39ms)\n\u001b[1;32m     34\u001b[0m \u001b[38;5;66;03m# Iterate through nodes until reaching a leaf / terminal node\u001b[39;00m\n\u001b[1;32m     35\u001b[0m \u001b[38;5;66;03m# update the game state to the node's state\u001b[39;00m\n\u001b[0;32m---> 36\u001b[0m \u001b[38;5;28;43mself\u001b[39;49m\u001b[38;5;241;43m.\u001b[39;49m\u001b[43mgame\u001b[49m\u001b[38;5;241;43m.\u001b[39;49m\u001b[43mplay\u001b[49m\u001b[43m(\u001b[49m\u001b[43mnode\u001b[49m\u001b[38;5;241;43m.\u001b[39;49m\u001b[43mfrom_action\u001b[49m\u001b[43m)\u001b[49m\n\u001b[1;32m     37\u001b[0m \u001b[38;5;28mself\u001b[39m\u001b[38;5;241m.\u001b[39mgame\u001b[38;5;241m.\u001b[39mset_state(node\u001b[38;5;241m.\u001b[39mgame_state)\n\u001b[1;32m     40\u001b[0m \u001b[38;5;28;01mwhile\u001b[39;00m \u001b[38;5;129;01mnot\u001b[39;00m (node\u001b[38;5;241m.\u001b[39mis_leaf \u001b[38;5;129;01mor\u001b[39;00m node\u001b[38;5;241m.\u001b[39mis_terminal):\n",
      "File \u001b[0;32m~/computer_science/code/RL-assignments/Assignment3/src/connect_four/game_board.py:93\u001b[0m, in \u001b[0;36mGameBoard.play\u001b[0;34m(self, first_action, second_action)\u001b[0m\n\u001b[1;32m     89\u001b[0m \u001b[38;5;250m\u001b[39m\u001b[38;5;124;03m\"\"\"First move must always be explicit. Second move can be `None`,\u001b[39;00m\n\u001b[1;32m     90\u001b[0m \u001b[38;5;124;03mand in this case the second player will play randomly\u001b[39;00m\n\u001b[1;32m     91\u001b[0m \u001b[38;5;124;03m\"\"\"\u001b[39;00m\n\u001b[1;32m     92\u001b[0m \u001b[38;5;66;03m# First play\u001b[39;00m\n\u001b[0;32m---> 93\u001b[0m \u001b[38;5;28;43mself\u001b[39;49m\u001b[38;5;241;43m.\u001b[39;49m\u001b[43mstep\u001b[49m\u001b[43m(\u001b[49m\u001b[43maction\u001b[49m\u001b[38;5;241;43m=\u001b[39;49m\u001b[43mfirst_action\u001b[49m\u001b[43m,\u001b[49m\u001b[43m \u001b[49m\u001b[43mplayer\u001b[49m\u001b[38;5;241;43m=\u001b[39;49m\u001b[43mPlayerType\u001b[49m\u001b[38;5;241;43m.\u001b[39;49m\u001b[43mUS\u001b[49m\u001b[43m)\u001b[49m\n\u001b[1;32m     95\u001b[0m \u001b[38;5;66;03m# Second play\u001b[39;00m\n\u001b[1;32m     96\u001b[0m second_action \u001b[38;5;241m=\u001b[39m (\n\u001b[1;32m     97\u001b[0m     second_action\n\u001b[1;32m     98\u001b[0m     \u001b[38;5;28;01mif\u001b[39;00m second_action \u001b[38;5;129;01mis\u001b[39;00m \u001b[38;5;129;01mnot\u001b[39;00m \u001b[38;5;28;01mNone\u001b[39;00m\n\u001b[1;32m     99\u001b[0m     \u001b[38;5;28;01melse\u001b[39;00m random\u001b[38;5;241m.\u001b[39mchoice(\u001b[38;5;28mlist\u001b[39m(\u001b[38;5;28mself\u001b[39m\u001b[38;5;241m.\u001b[39mavailable_actions))\n\u001b[1;32m    100\u001b[0m )\n",
      "File \u001b[0;32m~/computer_science/code/RL-assignments/Assignment3/src/connect_four/game_board.py:81\u001b[0m, in \u001b[0;36mGameBoard.step\u001b[0;34m(self, action, player)\u001b[0m\n\u001b[1;32m     79\u001b[0m action \u001b[38;5;241m=\u001b[39m \u001b[38;5;28mself\u001b[39m\u001b[38;5;241m.\u001b[39mvalidate_action(action)\n\u001b[1;32m     80\u001b[0m row \u001b[38;5;241m=\u001b[39m np\u001b[38;5;241m.\u001b[39mmax(np\u001b[38;5;241m.\u001b[39mwhere(\u001b[38;5;28mself\u001b[39m\u001b[38;5;241m.\u001b[39m_grid[:, action] \u001b[38;5;241m==\u001b[39m \u001b[38;5;241m0\u001b[39m))\n\u001b[0;32m---> 81\u001b[0m \u001b[38;5;28;43mself\u001b[39;49m\u001b[38;5;241;43m.\u001b[39;49m\u001b[43m_grid\u001b[49m\u001b[43m[\u001b[49m\u001b[43mrow\u001b[49m\u001b[43m,\u001b[49m\u001b[43m \u001b[49m\u001b[43maction\u001b[49m\u001b[43m]\u001b[49m \u001b[38;5;241m=\u001b[39m player\n",
      "\u001b[0;31mIndexError\u001b[0m: index 6 is out of bounds for axis 0 with size 6"
     ]
    }
   ],
   "source": [
    "game.play()"
   ]
  },
  {
   "cell_type": "code",
   "execution_count": null,
   "metadata": {},
   "outputs": [],
   "source": []
  }
 ],
 "metadata": {
  "kernelspec": {
   "display_name": ".venv",
   "language": "python",
   "name": "python3"
  },
  "language_info": {
   "codemirror_mode": {
    "name": "ipython",
    "version": 3
   },
   "file_extension": ".py",
   "mimetype": "text/x-python",
   "name": "python",
   "nbconvert_exporter": "python",
   "pygments_lexer": "ipython3",
   "version": "3.12.3"
  }
 },
 "nbformat": 4,
 "nbformat_minor": 2
}
