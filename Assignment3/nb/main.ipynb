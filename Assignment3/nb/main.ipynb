{
 "cells": [
  {
   "cell_type": "code",
   "execution_count": 1,
   "metadata": {},
   "outputs": [],
   "source": [
    "import numpy as np\n",
    "from connect_four import Game, GameType "
   ]
  },
  {
   "cell_type": "code",
   "execution_count": 2,
   "metadata": {},
   "outputs": [],
   "source": [
    "game_init = np.array(\n",
    "    [\n",
    "        [2, 2, 2, 1, 0, 1, 0],\n",
    "        [2, 1, 1, 1, 0, 2, 0],\n",
    "        [1, 2, 2, 2, 0, 1, 0],\n",
    "        [2, 1, 1, 1, 0, 2, 0],\n",
    "        [1, 1, 1, 2, 0, 2, 0],\n",
    "        [2, 2, 1, 2, 0, 1, 0],\n",
    "    ]\n",
    ")"
   ]
  },
  {
   "cell_type": "code",
   "execution_count": 3,
   "metadata": {},
   "outputs": [],
   "source": [
    "game = Game(game_state=game_init, game_type=GameType.MCTS_VS_RANDOM, mcts_maxiter=1000)"
   ]
  },
  {
   "cell_type": "code",
   "execution_count": null,
   "metadata": {},
   "outputs": [
    {
     "name": "stdout",
     "output_type": "stream",
     "text": [
      "Running tree search to choose action ...\n"
     ]
    }
   ],
   "source": [
    "game.play()"
   ]
  },
  {
   "cell_type": "markdown",
   "metadata": {},
   "source": [
    "#### Running the MCTS for several \"epochs\"\n",
    "The tree nodes store the state of the game when they are created. This states are the result from (first) the action chosen to create the node plus (second) the random action of player 2. This node states are frozen and kept untouched. This means we have a limited view of all the possible outcomes. \n",
    "\n",
    "We run the MCTS for sevral \"epochs\" before choosing an action to take. Each epoch consists of a single independent run of the tree search algorithm. This means that we will have as many action-value pairs as epochs (for the root node). We take the average of the q-values to select an action. \n"
   ]
  },
  {
   "cell_type": "code",
   "execution_count": null,
   "metadata": {},
   "outputs": [],
   "source": [
    "from typing import Dict\n",
    "import math\n",
    "\n",
    "\n",
    "class QValuesDict(dict):\n",
    "    \"\"\"This keeps a running average of q-values returned by mcts\"\"\"\n",
    "\n",
    "    def __init__(self, *args, **kwargs) -> None:\n",
    "        self._updates = 0\n",
    "        return super().__init__(*args, **kwargs)\n",
    "\n",
    "    def update(self, new: Dict[int, float]) -> None:\n",
    "        for key in new:\n",
    "            # Update the running average of each action\n",
    "            # This is: \\bar{x}_{N+1} = 1 / (N + 1) * (N * \\bar{x}_N + x_{N + 1}) \n",
    "            # Where \\bar{x}_N is the mean value of x given N updates\n",
    "            self[key] = 1 / (self._updates + 1) * (self._updates * self.get(key, 0.0) + new[key])\n",
    "\n",
    "        self._updates += 1\n",
    "\n",
    "\n",
    "def select_best_action_dope(self, epochs: int = 15) -> int:\n",
    "    print(\"Running tree search to choose action ...\")\n",
    "    qvalues = QValuesDict()\n",
    "    for e in range(epochs):\n",
    "        print(f\"\\tRunning epoch {e} to find best action ...\")\n",
    "        qvalues.update(self.mcts.run(game_state=self.game_board.snapshot()))\n",
    "    print(f\"Qvalues: {qvalues}\")\n",
    "    print(f\"Choosing {int(max(qvalues, key=qvalues.get))}\")\n",
    "    return int(max(qvalues, key=qvalues.get))"
   ]
  },
  {
   "cell_type": "code",
   "execution_count": null,
   "metadata": {},
   "outputs": [],
   "source": [
    "Game.select_best_action = select_best_action_dope"
   ]
  },
  {
   "cell_type": "code",
   "execution_count": null,
   "metadata": {},
   "outputs": [],
   "source": [
    "game.play()"
   ]
  },
  {
   "cell_type": "code",
   "execution_count": null,
   "metadata": {},
   "outputs": [],
   "source": []
  }
 ],
 "metadata": {
  "kernelspec": {
   "display_name": ".venv",
   "language": "python",
   "name": "python3"
  },
  "language_info": {
   "codemirror_mode": {
    "name": "ipython",
    "version": 3
   },
   "file_extension": ".py",
   "mimetype": "text/x-python",
   "name": "python",
   "nbconvert_exporter": "python",
   "pygments_lexer": "ipython3",
   "version": "3.12.3"
  }
 },
 "nbformat": 4,
 "nbformat_minor": 2
}
