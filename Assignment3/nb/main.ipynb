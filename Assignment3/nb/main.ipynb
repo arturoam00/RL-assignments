{
 "cells": [
  {
   "cell_type": "code",
   "execution_count": null,
   "metadata": {},
   "outputs": [],
   "source": [
    "import numpy as np\n",
    "from connect_four import Game, GameType"
   ]
  },
  {
   "cell_type": "code",
   "execution_count": null,
   "metadata": {},
   "outputs": [],
   "source": [
    "game_init = np.array(\n",
    "    [\n",
    "        [2, 2, 2, 1, 0, 1, 0],\n",
    "        [2, 1, 1, 1, 0, 2, 0],\n",
    "        [1, 2, 2, 2, 0, 1, 0],\n",
    "        [2, 1, 1, 1, 0, 2, 0],\n",
    "        [1, 1, 1, 2, 0, 2, 0],\n",
    "        [2, 2, 1, 2, 0, 1, 0],\n",
    "    ]\n",
    ")"
   ]
  },
  {
   "cell_type": "code",
   "execution_count": null,
   "metadata": {},
   "outputs": [],
   "source": [
    "game = Game(game_state=None, game_type=GameType.MCTS_VS_RANDOM, mcts_maxiter=50)"
   ]
  },
  {
   "cell_type": "code",
   "execution_count": null,
   "metadata": {},
   "outputs": [],
   "source": [
    "game.play()"
   ]
  },
  {
   "cell_type": "code",
   "execution_count": null,
   "metadata": {},
   "outputs": [],
   "source": []
  }
 ],
 "metadata": {
  "kernelspec": {
   "display_name": ".venv",
   "language": "python",
   "name": "python3"
  },
  "language_info": {
   "codemirror_mode": {
    "name": "ipython",
    "version": 3
   },
   "file_extension": ".py",
   "mimetype": "text/x-python",
   "name": "python",
   "nbconvert_exporter": "python",
   "pygments_lexer": "ipython3",
   "version": "3.12.3"
  }
 },
 "nbformat": 4,
 "nbformat_minor": 2
}
