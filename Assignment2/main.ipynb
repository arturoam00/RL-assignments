{
 "cells": [
  {
   "cell_type": "code",
   "execution_count": null,
   "metadata": {
    "vscode": {
     "languageId": "plaintext"
    }
   },
   "outputs": [],
   "source": [
    "Problem Description\n",
    "Consider an inventory problem with 2 different products and an infinite time horizon\n",
    "• At every timestep, the demand for the first product can either be 0 or 1, both with probability 0.5\n",
    "• Similarly, the demand per timestep for the second product is also 0 or 1, both with probability 0.5\n",
    "• Lost sales must be avoided, i.e. there should always be at least 1 item of each product in your inventory\n",
    "• You have a limited storage capacity of 20 items per product\n",
    "Note that the demand as well as the storage capacity for both products are fully independent of each other\n",
    "• At every timestep, you could order any amount of the first and second product at the same time\n",
    "• Every order has a fixed total cost of 5, regardless on the ordered amount of items/products\n",
    "• Orders arrive at the end of the timestep (so can be sold the next timestep the earliest)\n",
    "• The cost per timestep for holding a single item in stock is 1 for the first product and 2 for the second product"
   ]
  },
  {
   "cell_type": "code",
   "execution_count": null,
   "metadata": {},
   "outputs": [],
   "source": [
    "#For now, assume the order policy is fixed: Only when the inventory of one of the products is 1, you order such that the inventory level of both products becomes 5 (before any potential sales for that timestep take place).\n",
    "\n",
    "#c) Simulate the system for a long period under the given policy. Report the the long-run average costs.\n",
    "\n",
    "import numpy as np\n",
    "\n",
    "# consider all possible initial states\n",
    "\n",
    "running_costs = np.zeros((20,20))\n",
    "\n",
    "current_state = np.zeros((20,20,2))\n",
    "\n",
    "# initialize the current state\n",
    "\n",
    "for i in range(20):\n",
    "    for j in range(20):\n",
    "        current_state[i,j] = [i,j]\n",
    "\n",
    "n_timesteps = 100000\n",
    "\n",
    "# create a matrix to store the random values for the simulation\n",
    "\n",
    "random_values = np.random.rand(20,20,2,n_timesteps)\n",
    "\n",
    "# simulate the system\n",
    "\n",
    "for t in range(n_timesteps):\n",
    "\n",
    "     \n",
    "\n",
    "\n",
    "\n",
    "\n",
    "\n",
    "\n",
    "\n"
   ]
  }
 ],
 "metadata": {
  "language_info": {
   "name": "python"
  }
 },
 "nbformat": 4,
 "nbformat_minor": 2
}
