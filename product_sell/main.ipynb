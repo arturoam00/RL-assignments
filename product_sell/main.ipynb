{
 "cells": [
  {
   "cell_type": "code",
   "execution_count": 1,
   "metadata": {},
   "outputs": [],
   "source": [
    "import numpy as np"
   ]
  },
  {
   "cell_type": "code",
   "execution_count": 31,
   "metadata": {},
   "outputs": [],
   "source": [
    "MAX_ITEMS = 100\n",
    "MAX_T = 500\n",
    "\n",
    "actions = np.asarray([200.0, 100.0, 50.0])\n",
    "p = np.asarray([0.1, 0.5, 0.8])\n",
    "p_matrix = np.asarray([p, 1 - p])\n",
    "v_matrix = np.zeros(shape=(MAX_ITEMS + 1, MAX_T + 1))\n",
    "alpha_matrix = np.ones(shape=v_matrix.shape) * 99\n",
    "\n",
    "for t in range(1, MAX_T + 1):\n",
    "    a = (p * actions) + np.asarray([v_matrix[:-1, t - 1], v_matrix[1:, t - 1]]).T.dot(p_matrix)\n",
    "    v_matrix[1:, t] = np.max(a, axis=1)\n",
    "    alpha_matrix[1:, t] = np.argmax(a, axis=1)\n",
    "    "
   ]
  },
  {
   "cell_type": "code",
   "execution_count": 36,
   "metadata": {},
   "outputs": [
    {
     "data": {
      "text/plain": [
       "array([], dtype=float64)"
      ]
     },
     "execution_count": 36,
     "metadata": {},
     "output_type": "execute_result"
    }
   ],
   "source": [
    "alpha_matrix[alpha_matrix == 2]"
   ]
  },
  {
   "cell_type": "code",
   "execution_count": 5,
   "metadata": {},
   "outputs": [
    {
     "data": {
      "text/plain": [
       "20000"
      ]
     },
     "execution_count": 5,
     "metadata": {},
     "output_type": "execute_result"
    }
   ],
   "source": [
    "100 * 200"
   ]
  },
  {
   "cell_type": "code",
   "execution_count": null,
   "metadata": {},
   "outputs": [],
   "source": []
  }
 ],
 "metadata": {
  "kernelspec": {
   "display_name": ".venv",
   "language": "python",
   "name": "python3"
  },
  "language_info": {
   "codemirror_mode": {
    "name": "ipython",
    "version": 3
   },
   "file_extension": ".py",
   "mimetype": "text/x-python",
   "name": "python",
   "nbconvert_exporter": "python",
   "pygments_lexer": "ipython3",
   "version": "3.12.3"
  }
 },
 "nbformat": 4,
 "nbformat_minor": 2
}
